{
    "cells": [
        {
            "cell_type": "markdown",
            "source": [
                "# Optuna and MLFlow"
            ],
            "metadata": {}
        },
        {
            "cell_type": "code",
            "execution_count": null,
            "source": [
                "import optuna\r\n",
                "import mlflow\r\n",
                "from optuna.integration.mlflow import MLflowCallback"
            ],
            "outputs": [],
            "metadata": {}
        },
        {
            "cell_type": "code",
            "execution_count": null,
            "source": [
                "# Hack to avoid unwanted logs from alembic\r\n",
                "import logging\r\n",
                "logging.getLogger('alembic.runtime.migration').disabled = True"
            ],
            "outputs": [],
            "metadata": {}
        },
        {
            "cell_type": "markdown",
            "source": [
                "## Setup MLFlowCallback\r\n",
                "\r\n",
                "Default integration with MLFlow, logs parameters and objective result to MLFlow"
            ],
            "metadata": {}
        },
        {
            "cell_type": "code",
            "execution_count": null,
            "source": [
                "mlflc = MLflowCallback(\r\n",
                "    tracking_uri=\"sqlite:///data/mlflow.db\",\r\n",
                "    metric_name=\"target\",\r\n",
                "    nest_trials=True\r\n",
                ")"
            ],
            "outputs": [],
            "metadata": {}
        },
        {
            "cell_type": "markdown",
            "source": [
                "## Define Objective"
            ],
            "metadata": {}
        },
        {
            "cell_type": "code",
            "execution_count": null,
            "source": [
                "my_function = lambda x: (x - 2) ** 2\r\n",
                "\r\n",
                "@mlflc.track_in_mlflow()\r\n",
                "def objective(trial):\r\n",
                "    x = trial.suggest_float(\"x\", -10, 10)\r\n",
                "    mlflow.log_param(\"power\", 2)\r\n",
                "    mlflow.log_metric(\"base of metric\", x - 2)\r\n",
                "\r\n",
                "    return my_function(x)"
            ],
            "outputs": [],
            "metadata": {}
        },
        {
            "cell_type": "markdown",
            "source": [
                "## Optimize"
            ],
            "metadata": {}
        },
        {
            "cell_type": "code",
            "execution_count": null,
            "source": [
                "optuna.logging.set_verbosity(optuna.logging.INFO)\r\n",
                "study = optuna.create_study(study_name=\"my_study\")\r\n",
                "\r\n",
                "study.optimize(objective, n_trials=10, callbacks=[mlflc])\r\n",
                "print(f\"Minmal value is {study.best_value} at {study.best_params['x']}\")"
            ],
            "outputs": [],
            "metadata": {}
        },
        {
            "cell_type": "markdown",
            "source": [
                "## View in MLFlow\r\n",
                "\r\n",
                "Run the following command in the base folder of this project and click on the link\r\n",
                "\r\n",
                "```bash\r\n",
                "mlflow ui --backend-store-uri sqlite:///data/mlflow.db\r\n",
                "```\r\n"
            ],
            "metadata": {}
        },
        {
            "cell_type": "code",
            "execution_count": null,
            "source": [],
            "outputs": [],
            "metadata": {}
        }
    ],
    "metadata": {
        "orig_nbformat": 4,
        "language_info": {
            "name": "python",
            "version": "3.7.9",
            "mimetype": "text/x-python",
            "codemirror_mode": {
                "name": "ipython",
                "version": 3
            },
            "pygments_lexer": "ipython3",
            "nbconvert_exporter": "python",
            "file_extension": ".py"
        },
        "kernelspec": {
            "name": "python3",
            "display_name": "Python 3.7.9 64-bit ('base': conda)"
        },
        "interpreter": {
            "hash": "b3ba2566441a7c06988d0923437866b63cedc61552a5af99d1f4fb67d367b25f"
        }
    },
    "nbformat": 4,
    "nbformat_minor": 2
}