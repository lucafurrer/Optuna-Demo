{
    "cells": [
        {
            "cell_type": "markdown",
            "source": [
                "# Optuna \r\n",
                "\r\n",
                "Run optuna locally on a machine"
            ],
            "metadata": {}
        },
        {
            "cell_type": "code",
            "execution_count": null,
            "source": [
                "import optuna"
            ],
            "outputs": [],
            "metadata": {}
        },
        {
            "cell_type": "markdown",
            "source": [
                "## Simple run of Optuna"
            ],
            "metadata": {}
        },
        {
            "cell_type": "markdown",
            "source": [
                "Objective function"
            ],
            "metadata": {}
        },
        {
            "cell_type": "code",
            "execution_count": null,
            "source": [
                "my_function = lambda x,y: ((x+1)*(y-2))**2 - 2*(x-2) - (y+2)\r\n",
                "\r\n",
                "def objective(trial: optuna.trial.Trial):\r\n",
                "    x = trial.suggest_float(\"x\", -20, 20)\r\n",
                "    y = trial.suggest_float(\"y\", -20, 20)\r\n",
                "    return my_function(x,y)"
            ],
            "outputs": [],
            "metadata": {}
        },
        {
            "cell_type": "markdown",
            "source": [
                "Study defintion"
            ],
            "metadata": {}
        },
        {
            "cell_type": "code",
            "execution_count": null,
            "source": [
                "study = optuna.create_study(study_name=\"MyStudy\", direction=\"minimize\")\r\n",
                "#optuna.logging.set_verbosity(optuna.logging.WARN)"
            ],
            "outputs": [],
            "metadata": {}
        },
        {
            "cell_type": "markdown",
            "source": [
                "Run the study"
            ],
            "metadata": {}
        },
        {
            "cell_type": "code",
            "execution_count": null,
            "source": [
                "study.optimize(objective, n_trials=100, timeout=10)\r\n",
                "best_params = study.best_params\r\n",
                "print(best_params)"
            ],
            "outputs": [],
            "metadata": {}
        },
        {
            "cell_type": "markdown",
            "source": [
                "## Store and restart"
            ],
            "metadata": {}
        },
        {
            "cell_type": "code",
            "execution_count": null,
            "source": [
                "%%bash\r\n",
                "mkdir -p data"
            ],
            "outputs": [],
            "metadata": {}
        },
        {
            "cell_type": "code",
            "execution_count": null,
            "source": [
                "db_location = \"sqlite:///data/optuna.db\"\r\n",
                "study_name = \"RestartStudy\""
            ],
            "outputs": [],
            "metadata": {}
        },
        {
            "cell_type": "code",
            "execution_count": null,
            "source": [
                "%%bash \r\n",
                "rm -f ./data/optuna.db"
            ],
            "outputs": [],
            "metadata": {}
        },
        {
            "cell_type": "code",
            "execution_count": null,
            "source": [
                "study = optuna.create_study(study_name=study_name, direction=\"minimize\", storage=db_location)\r\n",
                "study.optimize(objective, n_trials=10, timeout=10)\r\n",
                "best_params = study.best_params\r\n",
                "print(best_params)"
            ],
            "outputs": [],
            "metadata": {}
        },
        {
            "cell_type": "code",
            "execution_count": null,
            "source": [
                "reloaded_study = optuna.load_study(study_name=study_name, storage=db_location)\r\n",
                "study.optimize(objective, timeout=10)\r\n",
                "best_params = study.best_params\r\n",
                "print(best_params)"
            ],
            "outputs": [],
            "metadata": {}
        },
        {
            "cell_type": "code",
            "execution_count": null,
            "source": [
                "optuna.visualization.plot_optimization_history(reloaded_study)"
            ],
            "outputs": [],
            "metadata": {}
        },
        {
            "cell_type": "code",
            "execution_count": null,
            "source": [
                "optuna.visualization.plot_contour(study=reloaded_study, params=[\"x\",\"y\"])"
            ],
            "outputs": [],
            "metadata": {}
        },
        {
            "cell_type": "code",
            "execution_count": null,
            "source": [],
            "outputs": [],
            "metadata": {}
        },
        {
            "cell_type": "code",
            "execution_count": null,
            "source": [],
            "outputs": [],
            "metadata": {}
        }
    ],
    "metadata": {
        "orig_nbformat": 4,
        "language_info": {
            "name": "python",
            "version": "3.7.9",
            "mimetype": "text/x-python",
            "codemirror_mode": {
                "name": "ipython",
                "version": 3
            },
            "pygments_lexer": "ipython3",
            "nbconvert_exporter": "python",
            "file_extension": ".py"
        },
        "kernelspec": {
            "name": "python3",
            "display_name": "Python 3.7.9 64-bit ('base': conda)"
        },
        "interpreter": {
            "hash": "b3ba2566441a7c06988d0923437866b63cedc61552a5af99d1f4fb67d367b25f"
        }
    },
    "nbformat": 4,
    "nbformat_minor": 2
}